{
 "cells": [
  {
   "cell_type": "code",
   "execution_count": 1,
   "metadata": {},
   "outputs": [],
   "source": [
    "class No:\n",
    "    def __init__(self, adjacentes:list):\n",
    "        self.cor = 'branco'\n",
    "        \n",
    "        self.custo_inicial = 0\n",
    "        self.custo_final = 0\n",
    "        \n",
    "        self.antecessor = None\n",
    "        self.adjacentes = adjacentes\n",
    "        \n",
    "    # GETTERS\n",
    "        \n",
    "    def get_custo_inicial(self) -> float:\n",
    "        return self.custo_inicial\n",
    "    \n",
    "    def get_custo_final(self) -> float:\n",
    "        return self.custo_final\n",
    "    \n",
    "    def get_cor(self) -> str:\n",
    "        return self.cor\n",
    "    \n",
    "    def get_adjacentes(self) -> list:\n",
    "        return self.adjacentes\n",
    "        \n",
    "    # SETTERS\n",
    "    \n",
    "    def set_custo_inicial(self, custo:float) -> None:\n",
    "        self.custo_inicial = custo\n",
    "        \n",
    "    def set_custo_final(self, custo:float) -> None:\n",
    "        self.custo_final = custo\n",
    "        \n",
    "    def set_cor(self, cor:str) -> None:\n",
    "        self.cor = cor\n",
    "        \n",
    "    def set_antecessor(self, antecessor) -> None:\n",
    "        self.antecessor = antecessor"
   ]
  },
  {
   "cell_type": "code",
   "execution_count": 2,
   "metadata": {},
   "outputs": [],
   "source": [
    "# DFS\n",
    "\n",
    "def visita_no(no_atual:No):\n",
    "    global tempo\n",
    "    no_atual.set_cor('azul')\n",
    "    tempo += 1\n",
    "    no_atual.set_custo_inicial(tempo)\n",
    "    \n",
    "    for no_temp in no_atual.get_adjacentes():\n",
    "        if no_temp.get_cor() == 'branco':\n",
    "            no_temp.set_antecessor(no_atual)\n",
    "            visita_no(no_temp)\n",
    "    \n",
    "    no_atual.set_cor('vermelho')\n",
    "    tempo += 1\n",
    "    no_atual\n",
    "    \n",
    "def dfs(grafo:list):\n",
    "    for no in grafo:\n",
    "        if no.get_cor() == 'branco':\n",
    "            visita_no(no)\n",
    "        "
   ]
  },
  {
   "cell_type": "code",
   "execution_count": null,
   "metadata": {},
   "outputs": [],
   "source": [
    "explorados = []\n",
    "prioridades = []"
   ]
  }
 ],
 "metadata": {
  "kernelspec": {
   "display_name": "Python 3 (ipykernel)",
   "language": "python",
   "name": "python3"
  },
  "language_info": {
   "codemirror_mode": {
    "name": "ipython",
    "version": 3
   },
   "file_extension": ".py",
   "mimetype": "text/x-python",
   "name": "python",
   "nbconvert_exporter": "python",
   "pygments_lexer": "ipython3",
   "version": "3.8.10"
  },
  "orig_nbformat": 4,
  "vscode": {
   "interpreter": {
    "hash": "e7370f93d1d0cde622a1f8e1c04877d8463912d04d973331ad4851f04de6915a"
   }
  }
 },
 "nbformat": 4,
 "nbformat_minor": 2
}

{
 "cells": [
  {
   "cell_type": "code",
   "execution_count": 1,
   "metadata": {},
   "outputs": [
    {
     "name": "stdout",
     "output_type": "stream",
     "text": [
      "Requirement already satisfied: sklearn in ./venv/lib/python3.8/site-packages (0.0)\n",
      "Requirement already satisfied: graphviz in ./venv/lib/python3.8/site-packages (0.20.1)\n",
      "Requirement already satisfied: numpy in ./venv/lib/python3.8/site-packages (1.23.4)\n",
      "Requirement already satisfied: scikit-learn in ./venv/lib/python3.8/site-packages (from sklearn) (1.1.2)\n",
      "Requirement already satisfied: scipy>=1.3.2 in ./venv/lib/python3.8/site-packages (from scikit-learn->sklearn) (1.9.2)\n",
      "Requirement already satisfied: threadpoolctl>=2.0.0 in ./venv/lib/python3.8/site-packages (from scikit-learn->sklearn) (3.1.0)\n",
      "Requirement already satisfied: joblib>=1.0.0 in ./venv/lib/python3.8/site-packages (from scikit-learn->sklearn) (1.2.0)\n",
      "Note: you may need to restart the kernel to use updated packages.\n"
     ]
    }
   ],
   "source": [
    "%pip install sklearn graphviz numpy"
   ]
  },
  {
   "cell_type": "code",
   "execution_count": 2,
   "metadata": {},
   "outputs": [],
   "source": [
    "from sklearn import tree\n",
    "import graphviz\n",
    "import numpy as np\n",
    "from sklearn.tree import export_text"
   ]
  },
  {
   "cell_type": "code",
   "execution_count": 3,
   "metadata": {},
   "outputs": [],
   "source": [
    "file = 'iris.csv'\n",
    "dataset = np.loadtxt(file, delimiter=',')"
   ]
  },
  {
   "cell_type": "code",
   "execution_count": 4,
   "metadata": {},
   "outputs": [],
   "source": [
    "x_data = dataset[0:, 0:4]\n",
    "y_data = dataset[0:, 4:5]"
   ]
  },
  {
   "cell_type": "code",
   "execution_count": 5,
   "metadata": {},
   "outputs": [],
   "source": [
    "clf = tree.DecisionTreeClassifier(criterion='entropy')\n",
    "clf = clf.fit(x_data, y_data)"
   ]
  },
  {
   "cell_type": "code",
   "execution_count": 6,
   "metadata": {},
   "outputs": [],
   "source": [
    "features = ['sepal length (cm)', 'sepal width (cm)',\n",
    "                'petal length (cm)', 'petal width (cm)']\n",
    "\n",
    "classes = ['setosa', 'versicolor', 'virginica']"
   ]
  },
  {
   "cell_type": "code",
   "execution_count": 7,
   "metadata": {},
   "outputs": [
    {
     "name": "stdout",
     "output_type": "stream",
     "text": [
      "|--- petal length (cm) <= 2.45\n",
      "|   |--- class: 0.0\n",
      "|--- petal length (cm) >  2.45\n",
      "|   |--- petal width (cm) <= 1.75\n",
      "|   |   |--- petal length (cm) <= 4.95\n",
      "|   |   |   |--- petal width (cm) <= 1.65\n",
      "|   |   |   |   |--- class: 1.0\n",
      "|   |   |   |--- petal width (cm) >  1.65\n",
      "|   |   |   |   |--- class: 2.0\n",
      "|   |   |--- petal length (cm) >  4.95\n",
      "|   |   |   |--- petal width (cm) <= 1.55\n",
      "|   |   |   |   |--- class: 2.0\n",
      "|   |   |   |--- petal width (cm) >  1.55\n",
      "|   |   |   |   |--- petal length (cm) <= 5.45\n",
      "|   |   |   |   |   |--- class: 1.0\n",
      "|   |   |   |   |--- petal length (cm) >  5.45\n",
      "|   |   |   |   |   |--- class: 2.0\n",
      "|   |--- petal width (cm) >  1.75\n",
      "|   |   |--- petal length (cm) <= 4.85\n",
      "|   |   |   |--- sepal length (cm) <= 5.95\n",
      "|   |   |   |   |--- class: 1.0\n",
      "|   |   |   |--- sepal length (cm) >  5.95\n",
      "|   |   |   |   |--- class: 2.0\n",
      "|   |   |--- petal length (cm) >  4.85\n",
      "|   |   |   |--- class: 2.0\n",
      "\n"
     ]
    }
   ],
   "source": [
    "text_tree = export_text(clf, feature_names=features)\n",
    "print(text_tree)"
   ]
  },
  {
   "cell_type": "code",
   "execution_count": 8,
   "metadata": {},
   "outputs": [],
   "source": [
    "dot_data = tree.export_graphviz(clf,\n",
    "                                feature_names=features,\n",
    "                                class_names=classes,\n",
    "                                filled=True,\n",
    "                                rounded=True,\n",
    "                                special_characters=True)"
   ]
  },
  {
   "cell_type": "code",
   "execution_count": 9,
   "metadata": {},
   "outputs": [
    {
     "data": {
      "text/plain": [
       "'iris.pdf'"
      ]
     },
     "execution_count": 9,
     "metadata": {},
     "output_type": "execute_result"
    }
   ],
   "source": [
    "graph = graphviz.Source(dot_data)\n",
    "graph.render('iris')"
   ]
  }
 ],
 "metadata": {
  "kernelspec": {
   "display_name": "Python 3.8.10 ('venv': venv)",
   "language": "python",
   "name": "python3"
  },
  "language_info": {
   "codemirror_mode": {
    "name": "ipython",
    "version": 3
   },
   "file_extension": ".py",
   "mimetype": "text/x-python",
   "name": "python",
   "nbconvert_exporter": "python",
   "pygments_lexer": "ipython3",
   "version": "3.8.10"
  },
  "orig_nbformat": 4,
  "vscode": {
   "interpreter": {
    "hash": "aa71b76ab67d3cd1ab43a82a366a95d6263a33c1ee1101043a2c7b24fa9f5106"
   }
  }
 },
 "nbformat": 4,
 "nbformat_minor": 2
}
